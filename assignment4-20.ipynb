{
 "cells": [
  {
   "cell_type": "code",
   "execution_count": 1,
   "metadata": {
    "deletable": false,
    "editable": false,
    "nbgrader": {
     "cell_type": "code",
     "checksum": "89b4867408f0b1266ea8a1f749198755",
     "grade": false,
     "grade_id": "cell-ad4c12a34b400e3c",
     "locked": true,
     "schema_version": 3,
     "solution": false,
     "task": false
    }
   },
   "outputs": [],
   "source": [
    "version = \"v1.12.052622.1\""
   ]
  },
  {
   "cell_type": "markdown",
   "metadata": {
    "deletable": false,
    "editable": false,
    "nbgrader": {
     "cell_type": "markdown",
     "checksum": "affe4ca25d085bd0f6247a91a1be3c97",
     "grade": false,
     "grade_id": "cell-322970f9e7c8580e",
     "locked": true,
     "schema_version": 3,
     "solution": false,
     "task": false
    }
   },
   "source": [
    "## SIADS 543 Assignment 4: Improving supervised learning with unsupervised methods.\n",
    "\n",
    "In this assignment, you'll explore topics from week 4: semi-supervised learning, data imputation and covariate shift, with the underlying theme being how unsupervised learning can improve supervised learning.\n",
    "\n",
    "*Please note that for autograder messages that check a list, it will typically report any problems using a list index starting at zero, i.e. the first list element is called \"element 0\".*"
   ]
  },
  {
   "cell_type": "code",
   "execution_count": 2,
   "metadata": {
    "deletable": false,
    "editable": false,
    "nbgrader": {
     "cell_type": "code",
     "checksum": "378e847b8bdfc4b3b18ca27e1d786627",
     "grade": false,
     "grade_id": "cell-adc369f08d1e03bb",
     "locked": true,
     "schema_version": 3,
     "solution": false,
     "task": false
    }
   },
   "outputs": [],
   "source": [
    "# First import some necessary libararies\n",
    "import numpy as np\n",
    "import pandas as pd\n",
    "import seaborn as sns\n",
    "import matplotlib.pyplot as plt\n",
    "\n",
    "%matplotlib inline\n",
    "\n",
    "# Suppress all warnings\n",
    "import warnings\n",
    "\n",
    "warnings.filterwarnings(\"ignore\")\n",
    "\n",
    "np.set_printoptions(precision=3)"
   ]
  },
  {
   "cell_type": "markdown",
   "metadata": {
    "deletable": false,
    "editable": false,
    "nbgrader": {
     "cell_type": "markdown",
     "checksum": "10ad3f09697779ff6a99820ab4464af8",
     "grade": false,
     "grade_id": "cell-9e946e896b27b328",
     "locked": true,
     "schema_version": 3,
     "solution": false,
     "task": false
    }
   },
   "source": [
    "## Question 1. (35 points total) Semi-supervised learning: label propagation.\n",
    "\n",
    "We've provided you a dataset where some instances have labels, but most labels are missing. In this question, you'll use label propagation methods from semi-supervised learning to infer the missing labels. The application is classification: the general goal of this question is to answer: was semi-supervised learning using label propagation successful at improving the accuracy of this question's classifier?\n",
    "\n",
    "The backstory:\n",
    "\n",
    "A professor and lab assistants spend months manually classifying cancer cells as benign or malignant, and gathering a set of descriptive features based on their visual properties. Their goal is to use support vector machines to predict whether a cancer cell is benign or malignant based on its features.\n",
    "\n",
    "After painstakingly analyzing and sorting the lab samples into boxes of benign and malignant groups, the clumsy professor accidently spills a mug of artisanal, locally-sourced dark roast Arabica coffee all over the vials, erasing most of their benign/malignant labels. (Each vial and its label represent one data instance.) To add insult to injury, in trying to avoid the coffee the professor knocks the boxes to the floor and the benign/malignant groups get completely mixed together.\n",
    "\n",
    "Because of the trajectory of the coffee relative to the boxes, the professor estimates these probabilities:\n",
    "\n",
    "Probability a benign (non-malignant) cell vial (instance) had its label erased: 30%\n",
    "Probability a malignant cell vial (instance) had its label erased : 90%\n",
    "\n",
    "Their paper to the journal \"Annals of Overfitting and Data Leakage\" is due tomorrow. There are two choices they have for training their classifier and they want to maximize accuracy.\n",
    "\n",
    "`METHOD 1.` Throw away any vials whose labels were erased, and train the classifier ONLY on the much smaller but complete and accurate labeled data that remain.\n",
    "\n",
    "`METHOD 2.` Attempt to use semi-supervised learning to reconstitute the missing labels, and then train the classifier on that \"reconstituted\" dataset. An insightful colleague, an instructor for the SIADS 543 course, suggests using a label propagation algorithm in scikit-learn.\n",
    "\n",
    "Your goal for this question is to train a classifier for each of methods 1 and 2 to see how semi-supervised learning can affect classifier performance.\n",
    "\n",
    "But before you do that, run the code below to initialize the raw training and test sets. Then, instead of spilling hot coffee, you're going to simulate the label destruction by calling the provided function get_mangled_label_dataset(). \n"
   ]
  },
  {
   "cell_type": "code",
   "execution_count": 3,
   "metadata": {
    "deletable": false,
    "editable": false,
    "nbgrader": {
     "cell_type": "code",
     "checksum": "ed37301dca3152412b7de74a91fa9a03",
     "grade": false,
     "grade_id": "cell-5f61a860d6fa6e6b",
     "locked": true,
     "schema_version": 3,
     "solution": false,
     "task": false
    }
   },
   "outputs": [],
   "source": [
    "# Run the following startup code to load the needed (corrupted) dataset and\n",
    "# its smaller, uncorrupted counterpart.\n",
    "\n",
    "from sklearn.model_selection import train_test_split\n",
    "from sklearn.preprocessing import StandardScaler\n",
    "\n",
    "from sklearn.datasets import load_breast_cancer\n",
    "\n",
    "(X, y) = load_breast_cancer(return_X_y=True)\n",
    "\n",
    "X_train_raw, X_test_raw, y_train, y_test = train_test_split(X, y, random_state=0)\n",
    "\n",
    "X_train = StandardScaler().fit_transform(X_train_raw)\n",
    "X_test = StandardScaler().fit_transform(X_test_raw)\n",
    "\n",
    "# This function takes a dataset and label set as input, and returns the following:\n",
    "#   - The X features of the subset of instances that had intact labels\n",
    "#   - The y labels of the subset of instances that had intact labels\n",
    "#   - The X features of the complete training set\n",
    "#   - The y labels of the complete training set WITH DESTROYED LABELS according to the assignment specifications.\n",
    "\n",
    "def get_mangled_label_dataset(X_train, y_train):\n",
    "    rng = np.random.RandomState(0)\n",
    "\n",
    "    frac_0 = 0.30  # as specified in assignment question\n",
    "    frac_1 = 0.90\n",
    "\n",
    "    X_train_0 = X_train[y_train == 0]\n",
    "    y_train_0 = y_train[y_train == 0]\n",
    "\n",
    "    X_train_1 = X_train[y_train == 1]\n",
    "    y_train_1 = y_train[y_train == 1]\n",
    "\n",
    "    X_train_complete = np.vstack((X_train_0, X_train_1))\n",
    "    y_train_complete = np.concatenate((y_train_0, y_train_1))\n",
    "\n",
    "    random_unlabeled_points_0 = rng.rand(len(y_train_0)) < frac_0\n",
    "    random_unlabeled_points_1 = rng.rand(len(y_train_1)) < frac_1\n",
    "    random_unlabeled_points = np.concatenate(\n",
    "        (random_unlabeled_points_0, random_unlabeled_points_1)\n",
    "    )\n",
    "\n",
    "    random_labeled_points_0 = np.logical_not(random_unlabeled_points_0)\n",
    "    random_labeled_points_1 = np.logical_not(random_unlabeled_points_1)\n",
    "\n",
    "    labeled_subset_X_train_0 = X_train_0[random_labeled_points_0]\n",
    "    labeled_subset_X_train_1 = X_train_1[random_labeled_points_1]\n",
    "    labeled_subset_y_train_0 = y_train_0[random_labeled_points_0]\n",
    "    labeled_subset_y_train_1 = y_train_1[random_labeled_points_1]\n",
    "\n",
    "    labeled_subset_X_train = np.vstack(\n",
    "        (labeled_subset_X_train_0, labeled_subset_X_train_1)\n",
    "    )\n",
    "    labeled_subset_y_train = np.concatenate(\n",
    "        (labeled_subset_y_train_0, labeled_subset_y_train_1)\n",
    "    )\n",
    "\n",
    "    labels_train_with_destroyed = np.copy(y_train_complete)\n",
    "    labels_train_with_destroyed[random_unlabeled_points] = -1\n",
    "\n",
    "    return (\n",
    "        labeled_subset_X_train,\n",
    "        labeled_subset_y_train,\n",
    "        X_train_complete,\n",
    "        labels_train_with_destroyed,\n",
    "    )"
   ]
  },
  {
   "cell_type": "markdown",
   "metadata": {
    "deletable": false,
    "editable": false,
    "nbgrader": {
     "cell_type": "markdown",
     "checksum": "f36f0fec41cacd9ac34fdaa17fa184ee",
     "grade": false,
     "grade_id": "cell-25df8860dbac0351",
     "locked": true,
     "schema_version": 3,
     "solution": false,
     "task": false
    }
   },
   "source": [
    "### Part 1.a (15 points).  Finding the classifier accuracy using Method 1 (train only on the intact remaining labeled data).\n",
    "\n",
    "In preparation for this part and the next, run get_mangled_dataset(.) on the original training set X_train, and train a `support vector classifier` with default parameters (call this the method 1 classifier) on the resulting subset of the instances that had intact labels. Your function should return a single float: the accuracy of the method 1 classifier on the test set, i.e using X_test, y_test.  No cross-validation required: just a single test run."
   ]
  },
  {
   "cell_type": "code",
   "execution_count": 4,
   "metadata": {},
   "outputs": [],
   "source": [
    "labeled_subset_X_train, labeled_subset_y_train, X_train_complete, labels_train_with_destroyed = get_mangled_label_dataset(X_train, y_train)"
   ]
  },
  {
   "cell_type": "code",
   "execution_count": 5,
   "metadata": {},
   "outputs": [
    {
     "data": {
      "text/plain": [
       "0.8811188811188811"
      ]
     },
     "execution_count": 5,
     "metadata": {},
     "output_type": "execute_result"
    }
   ],
   "source": [
    "from sklearn.metrics import accuracy_score\n",
    "from sklearn.svm import SVC\n",
    "method_1_classifier = SVC().fit(labeled_subset_X_train, labeled_subset_y_train)\n",
    "\n",
    "method_1_preds = method_1_classifier.predict(X_test)\n",
    "\n",
    "method_1_acc = accuracy_score(y_test, method_1_preds)\n",
    "method_1_acc"
   ]
  },
  {
   "cell_type": "code",
   "execution_count": 6,
   "metadata": {
    "deletable": false,
    "nbgrader": {
     "cell_type": "code",
     "checksum": "cd9e2784222979f5a25b3960bd0a2ffc",
     "grade": false,
     "grade_id": "cell-3d42ec3f523c567a",
     "locked": false,
     "schema_version": 3,
     "solution": true
    }
   },
   "outputs": [],
   "source": [
    "def answer_label_propagation_a():\n",
    "    result = method_1_acc\n",
    "    # YOUR CODE HERE\n",
    "    #raise NotImplementedError()\n",
    "\n",
    "    return result"
   ]
  },
  {
   "cell_type": "code",
   "execution_count": 7,
   "metadata": {
    "deletable": false,
    "editable": false,
    "nbgrader": {
     "cell_type": "code",
     "checksum": "8d90f08c526431b05bbf169dc642e3f0",
     "grade": true,
     "grade_id": "cell-b2d79c086a59803c",
     "locked": true,
     "points": 15,
     "schema_version": 3,
     "solution": false
    }
   },
   "outputs": [],
   "source": [
    "stu_ans = answer_label_propagation_a()\n",
    "\n",
    "assert isinstance(stu_ans, float), \"Q1a: Your function should return a float.\"\n",
    "\n",
    "del stu_ans"
   ]
  },
  {
   "cell_type": "markdown",
   "metadata": {
    "deletable": false,
    "editable": false,
    "nbgrader": {
     "cell_type": "markdown",
     "checksum": "82826f8833087fbc77e2016b7c29711d",
     "grade": false,
     "grade_id": "cell-0b2793d7952be405",
     "locked": true,
     "schema_version": 3,
     "solution": false,
     "task": false
    }
   },
   "source": [
    "### Part 1.b (20 points).  Finding the classifier accuracy using Method 2 (do label propagation to infer all missing labels and train on the resulting complete training set)\n",
    "\n",
    "Assuming you've run `get_mangled_dataset(.)` on the original training set X_train, now perform label propagation on the complete training set with missing labels (X_train_complete, y_train_complete_missing).  For label propagations, choose the semi-supervised method in scikit-learn that does label propagation using an affinity matrix based on the normalized graph Laplacian. With that class, **use these settings: the \"knn\" kernel with n=9 neighbors, alpha = 0.1, max_iter=30, tol=0.001**.\n",
    "\n",
    "Then, train a support vector classifier **using the SVC class** with default parameters (call this the method 2 classifier) on the resulting complete training set with inferred labels. Your function should return a single float: the accuracy of the method 2 classifier on the test set, i.e using X_test, y_test.  No cross-validation required: just a single test run.\n",
    "\n",
    "Was the label propagation effective, and save the team's journal submission?"
   ]
  },
  {
   "cell_type": "code",
   "execution_count": 8,
   "metadata": {},
   "outputs": [],
   "source": [
    "from sklearn.semi_supervised import LabelSpreading\n",
    "label_prop_model = LabelSpreading(kernel = 'knn', n_neighbors=9, alpha=0.1, max_iter=30, tol=0.001)\n",
    "label_prop_model.fit(X_train_complete, labels_train_with_destroyed)\n",
    "pred_y_train_complete = label_prop_model.predict(X_train_complete)"
   ]
  },
  {
   "cell_type": "code",
   "execution_count": 9,
   "metadata": {},
   "outputs": [
    {
     "data": {
      "text/plain": [
       "0.951048951048951"
      ]
     },
     "execution_count": 9,
     "metadata": {},
     "output_type": "execute_result"
    }
   ],
   "source": [
    "method_2_classifier=SVC().fit(X_train_complete, pred_y_train_complete)\n",
    "method_2_predict = method_2_classifier.predict(X_test)\n",
    "acc_with_label_prop = accuracy_score(y_test, method_2_predict)\n",
    "acc_with_label_prop"
   ]
  },
  {
   "cell_type": "code",
   "execution_count": 10,
   "metadata": {
    "deletable": false,
    "nbgrader": {
     "cell_type": "code",
     "checksum": "959eb8a628a69f6e626bb32ec61d6a01",
     "grade": false,
     "grade_id": "cell-a62f850090dc8412",
     "locked": false,
     "schema_version": 3,
     "solution": true
    }
   },
   "outputs": [],
   "source": [
    "def answer_label_propagation_b():\n",
    "    result = acc_with_label_prop\n",
    "    # YOUR CODE HERE\n",
    "    #raise NotImplementedError()\n",
    "\n",
    "    return result"
   ]
  },
  {
   "cell_type": "code",
   "execution_count": 11,
   "metadata": {
    "deletable": false,
    "editable": false,
    "nbgrader": {
     "cell_type": "code",
     "checksum": "d1856d1f6845414cfdadd19ed05213f4",
     "grade": true,
     "grade_id": "cell-e5a0dd64494f2fa6",
     "locked": true,
     "points": 20,
     "schema_version": 3,
     "solution": false
    }
   },
   "outputs": [],
   "source": [
    "stu_ans = answer_label_propagation_b()\n",
    "\n",
    "assert isinstance(stu_ans, float), \"Q1b: Your function should return a float.\"\n",
    "\n",
    "del stu_ans"
   ]
  },
  {
   "cell_type": "markdown",
   "metadata": {
    "deletable": false,
    "editable": false,
    "nbgrader": {
     "cell_type": "markdown",
     "checksum": "e6ca692394ca7972e2813d91d2e4495a",
     "grade": false,
     "grade_id": "cell-ea7621ee18ab4382",
     "locked": true,
     "schema_version": 3,
     "solution": false,
     "task": false
    }
   },
   "source": [
    "## Question 2 (40 points total)\n",
    "\n",
    "As discussed in this week's lecture on how unsupervised learning can help supervised learning, `covariate shift` is the name of a phenomenon in which the underlying distribution of the features for the data instances being classified using a trained model is different from the underlying distribution of the data originally used to train the classifier. This is a critical problem since the normal machine learning paradigm of estimating generalization error by minimizing test error on held-out data assumes that any future data instances to be classified are drawn from the same underlying distribution as the data used to train/test the classifier. If this assumption doesn't hold, it means your classifier may be out of date, probably giving worse predictions over time, and in need of retraining. (I use the term \"classifier\" here but the same applies if you're training/evaluating a regressor.)  Note that covariate shift is different than 'concept drift' which refers to how a *label* definition may change over time.\n",
    "\n",
    "There are many methods for detecting covariate shift. In this question we will use a simple one based on the methods you've already seen in week 1 for density estimation, and in this week's discussion (in the EM lecture) on Gaussian mixture models (GMM).\n",
    "\n",
    "Scenario: You have set up an online business selling wine. As part of a site recommender system, you build a regression model that can predict the likely user quality rating for a wine based on several features. These features summarize some of the wine's various quantitative properties (e.g. alcohol % by volume, taste rating, level of sulfites, and other chemical properties) which are provided as part of an analysis by the supplier. Your regression algorithm will try to predict the customers' perceived quality of the wine, which in turn will help you predict possible future demand and also set the wine price accordingly. Your original training data comes from the current set of wines provided by your supplier, plus labels that you gathered (in a time consuming, expensive process) from online customer ratings and in-person tasting.\n",
    "\n",
    "You won't need detailed knowledge of the features to use this data, but in case you're curious, each instance of a wine has the following real-valued features:\n",
    "\n",
    "`\"fixed acidity\"\n",
    "\"volatile acidity\"\n",
    "\"citric acid\"\n",
    "\"residual sugar\"\n",
    "\"chlorides\"\n",
    "\"free sulfur dioxide\"\n",
    "\"total sulfur dioxide\"\n",
    "\"density\"\n",
    "\"pH\"\n",
    "\"sulphates\"\n",
    "\"alcohol\"`\n",
    "\n",
    "In addition, there's a final column which is the instance label, i.e. the quality rating:\n",
    "   `\"quality\"`  (This is an ordinal quality rating from 1-10 from a human judge: higher is better quality.)\n",
    "\n",
    "Before starting, run the preamble code below to load the various dataset(s) you'll need.\n",
    "\n",
    "**NOTE: As always, use `random_state=42` for any regressor, mixture model, or other scikit-learn call that takes it as an argument.**"
   ]
  },
  {
   "cell_type": "code",
   "execution_count": 12,
   "metadata": {
    "deletable": false,
    "editable": false,
    "nbgrader": {
     "cell_type": "code",
     "checksum": "924c2d9b849e1b2099fd070f057c2bc8",
     "grade": false,
     "grade_id": "cell-6b9166a5c16e64b6",
     "locked": true,
     "schema_version": 3,
     "solution": false,
     "task": false
    }
   },
   "outputs": [],
   "source": [
    "from sklearn.preprocessing import StandardScaler\n",
    "\n",
    "# Load your base training set that will be used to train the starting classifier.\n",
    "df_base = pd.read_csv(\"assets/wine-base-dataset.csv\")\n",
    "X_base = df_base.iloc[:, :-1]  # take all columns except the last\n",
    "y_base = df_base.iloc[\n",
    "    :, -1\n",
    "]  # take just the last column (the quality score, which is the regression target)\n",
    "\n",
    "X_base_normalized = StandardScaler().fit_transform(X_base)"
   ]
  },
  {
   "cell_type": "markdown",
   "metadata": {
    "deletable": false,
    "editable": false,
    "nbgrader": {
     "cell_type": "markdown",
     "checksum": "6b31d1070e4d27dd1d4536eb82f9bf54",
     "grade": false,
     "grade_id": "cell-b6ea65022f6292a1",
     "locked": true,
     "schema_version": 3,
     "solution": false,
     "task": false
    }
   },
   "source": [
    "### Part 2.a (10 points). Compute the baseline regression score of your wine quality classifier using the existing base dataset.\n",
    "\n",
    "You decide to start by using a random forest regressor for your quality predictions. Using your existing complete X_base_normalized dataset, compute the mean five-fold cross-validation score achieved by a default random forest regressor.  Your function should return a `float` representing this mean score."
   ]
  },
  {
   "cell_type": "code",
   "execution_count": 13,
   "metadata": {},
   "outputs": [
    {
     "data": {
      "text/plain": [
       "array([0.253, 0.34 , 0.365, 0.318, 0.264])"
      ]
     },
     "execution_count": 13,
     "metadata": {},
     "output_type": "execute_result"
    }
   ],
   "source": [
    "from sklearn.ensemble import RandomForestRegressor\n",
    "from sklearn.model_selection import cross_val_score\n",
    "tree_model = RandomForestRegressor(random_state=42).fit(X_base_normalized, y_base)\n",
    "scores = cross_val_score(tree_model, X_base_normalized, y_base)\n",
    "scores"
   ]
  },
  {
   "cell_type": "code",
   "execution_count": 14,
   "metadata": {},
   "outputs": [
    {
     "data": {
      "text/plain": [
       "0.3081286839917401"
      ]
     },
     "execution_count": 14,
     "metadata": {},
     "output_type": "execute_result"
    }
   ],
   "source": [
    "scores.mean()"
   ]
  },
  {
   "cell_type": "code",
   "execution_count": 15,
   "metadata": {
    "deletable": false,
    "nbgrader": {
     "cell_type": "code",
     "checksum": "19e6a1ad406a995b78b8042c2c2ce786",
     "grade": false,
     "grade_id": "cell-8eea2e5dcf829c94",
     "locked": false,
     "schema_version": 3,
     "solution": true
    }
   },
   "outputs": [],
   "source": [
    "# YOUR CODE HERE\n",
    "#raise NotImplementedError()\n",
    "\n",
    "\n",
    "def answer_covariate_shift_a():\n",
    "    result = scores.mean()\n",
    "    # YOUR CODE HERE\n",
    "    #raise NotImplementedError()\n",
    "\n",
    "    return result"
   ]
  },
  {
   "cell_type": "code",
   "execution_count": 16,
   "metadata": {
    "deletable": false,
    "editable": false,
    "nbgrader": {
     "cell_type": "code",
     "checksum": "beee761b7ce993ac5fabd7d035f3fafa",
     "grade": true,
     "grade_id": "cell-2079bdf62870ff23",
     "locked": true,
     "points": 10,
     "schema_version": 3,
     "solution": false
    }
   },
   "outputs": [],
   "source": [
    "stu_ans = answer_covariate_shift_a()\n",
    "\n",
    "assert isinstance(stu_ans, float), \"Q2a: Your function should return a float.\"\n",
    "\n",
    "del stu_ans"
   ]
  },
  {
   "cell_type": "markdown",
   "metadata": {
    "deletable": false,
    "editable": false,
    "nbgrader": {
     "cell_type": "markdown",
     "checksum": "2bb07752e6f6002d28e353e0fe081dbe",
     "grade": false,
     "grade_id": "cell-76a2a8079c3a66c5",
     "locked": true,
     "schema_version": 3,
     "solution": false,
     "task": false
    }
   },
   "source": [
    "### Part 2.b (10 points) Fit a Gaussian mixture model to the base dataset. Evaluate the average log probability density of the base dataset under this GMM. \n",
    "\n",
    "Create an instance of the sklearn.mixture class GaussianMixture with 5 components and a full covariance matrix, and fit it using the base dataset.\n",
    "\n",
    "You can refer to the week 1 notebook density estimation examples for the method you use to fit a mixture model, and to compute the log probability density of a set X of instances.\n",
    "\n",
    "Your function should return a `float` containing the mean log probability of the base dataset instances under this GMM."
   ]
  },
  {
   "cell_type": "code",
   "execution_count": 17,
   "metadata": {},
   "outputs": [],
   "source": [
    "from sklearn.mixture import GaussianMixture\n",
    "gmm = GaussianMixture(n_components=5, random_state=42).fit(X_base_normalized, y_base)"
   ]
  },
  {
   "cell_type": "code",
   "execution_count": 18,
   "metadata": {},
   "outputs": [],
   "source": [
    "gmm_scores=gmm.score_samples(X_base_normalized)"
   ]
  },
  {
   "cell_type": "code",
   "execution_count": 19,
   "metadata": {
    "deletable": false,
    "nbgrader": {
     "cell_type": "code",
     "checksum": "d55e3abf3420d60641af462e053d7f7e",
     "grade": false,
     "grade_id": "cell-205448801b462753",
     "locked": false,
     "schema_version": 3,
     "solution": true
    }
   },
   "outputs": [],
   "source": [
    "# YOUR CODE HERE\n",
    "#raise NotImplementedError()\n",
    "\n",
    "\n",
    "def answer_covariate_shift_b():\n",
    "    result = gmm_scores.mean()\n",
    "    # YOUR CODE HERE\n",
    "    #raise NotImplementedError()\n",
    "\n",
    "    return result"
   ]
  },
  {
   "cell_type": "code",
   "execution_count": 20,
   "metadata": {
    "deletable": false,
    "editable": false,
    "nbgrader": {
     "cell_type": "code",
     "checksum": "979ff34906e20d32ff008379cb4d7528",
     "grade": true,
     "grade_id": "cell-39765eec0d59ac88",
     "locked": true,
     "points": 10,
     "schema_version": 3,
     "solution": false
    }
   },
   "outputs": [],
   "source": [
    "stu_ans = answer_covariate_shift_b()\n",
    "\n",
    "assert isinstance(stu_ans, float), \"Q2b: Your function should return a float.\"\n",
    "\n",
    "del stu_ans"
   ]
  },
  {
   "cell_type": "markdown",
   "metadata": {
    "deletable": false,
    "editable": false,
    "nbgrader": {
     "cell_type": "markdown",
     "checksum": "d06de913c656960a380e835670ad68dd",
     "grade": false,
     "grade_id": "cell-707e23fd32aec2f5",
     "locked": true,
     "schema_version": 3,
     "solution": false,
     "task": false
    }
   },
   "source": [
    "### Part 2.c (5 points) Given a dataset of new items without labels, compute the average log probability of the new item dataset under this GMM.\n",
    "\n",
    "A new wine inventory list comes in from your supplier in the file `wine-newitems-dataset.csv`.  These are the wines the supplier expects to be able to deliver in the next month and they come with the usual features.\n",
    "\n",
    "You decide to check for covariate shift by seeing how likely, on average, these new items are in the GMM trained with the (old) base dataset. If the new items are really unlikely, it may be time to consider making the effort to get labels for some or all of these new items in order to create an updated training set. (Okay - if you look closely the newitems dataset already has a final quality label column you will use for Part 2d, but for the purposes of this question, you can ignore that column.)\n",
    "\n",
    "Your function should return a float with the mean log probability of the new item samples under the base GMM you fit in Part 2b (trained with the base dataset).\n",
    "\n",
    "Compare this to your answer from Part 2b, the mean log probability of the (old) base samples under the same GMM. \n",
    "What is the difference? (Note that log probabilities will be negative numbers, since probabilities are between 0 and 1.)\n",
    "\n",
    "Run the code below to load and normalized a dataset of new items (that are unlabeled)."
   ]
  },
  {
   "cell_type": "code",
   "execution_count": 21,
   "metadata": {
    "deletable": false,
    "editable": false,
    "nbgrader": {
     "cell_type": "code",
     "checksum": "c4fbb83e815c75c7e77cb7db2c8273c0",
     "grade": false,
     "grade_id": "cell-9faf0f2bf817af8c",
     "locked": true,
     "schema_version": 3,
     "solution": false,
     "task": false
    }
   },
   "outputs": [],
   "source": [
    "# Use this code to load the new items dataset\n",
    "\n",
    "df_newitems = pd.read_csv(\"assets/wine-newitems-dataset.csv\")\n",
    "X_newitems = df_newitems.iloc[:, :-1]  # ignore the label for now\n",
    "\n",
    "X_newitems_normalized = StandardScaler().fit_transform(X_newitems)"
   ]
  },
  {
   "cell_type": "code",
   "execution_count": 22,
   "metadata": {},
   "outputs": [],
   "source": [
    "gmm2_scores=gmm.score_samples(X_newitems_normalized)"
   ]
  },
  {
   "cell_type": "code",
   "execution_count": 23,
   "metadata": {
    "deletable": false,
    "nbgrader": {
     "cell_type": "code",
     "checksum": "7c59ddde5eaa6a34ab7ff2ec2750e0ee",
     "grade": false,
     "grade_id": "cell-dcf0303572bde9a4",
     "locked": false,
     "schema_version": 3,
     "solution": true
    }
   },
   "outputs": [],
   "source": [
    "# YOUR CODE HERE\n",
    "#raise NotImplementedError()\n",
    "\n",
    "\n",
    "def answer_covariate_shift_c():\n",
    "    result = gmm2_scores.mean()\n",
    "    # YOUR CODE HERE\n",
    "    #raise NotImplementedError()\n",
    "    return result"
   ]
  },
  {
   "cell_type": "code",
   "execution_count": 24,
   "metadata": {
    "deletable": false,
    "editable": false,
    "nbgrader": {
     "cell_type": "code",
     "checksum": "cfd3d4c45f910123a3e13596ff01da5c",
     "grade": true,
     "grade_id": "cell-36c9d4d11835cbb5",
     "locked": true,
     "points": 5,
     "schema_version": 3,
     "solution": false
    }
   },
   "outputs": [],
   "source": [
    "stu_ans = answer_covariate_shift_c()\n",
    "\n",
    "assert isinstance(stu_ans, float), \"Q2c: Your function should return a float.\"\n",
    "\n",
    "del stu_ans"
   ]
  },
  {
   "cell_type": "markdown",
   "metadata": {
    "deletable": false,
    "editable": false,
    "nbgrader": {
     "cell_type": "markdown",
     "checksum": "d348c36796ac67593ed76711234adf6b",
     "grade": false,
     "grade_id": "cell-d470a57861fe3da7",
     "locked": true,
     "schema_version": 3,
     "solution": false,
     "task": false
    }
   },
   "source": [
    "### Part 2.d (15 points) Test the original classifier on the new labeled items, and retrain your original classifier by incorporating the new labeled training data.\n",
    "\n",
    "Based on the results of the previous analysis, you decide to retrain your random forest regressor. (You pay a survey firm to get judges who provide the quality scores.)\n",
    "\n",
    "First create a new combined dataset by appending the `newitems` labeled dataset *after* the end of the `base` labeled dataset.\n",
    "\n",
    "Now that you have the new item labels you should compute two numbers here:\n",
    "\n",
    "(i) The score you get when using X_newitems_normalized and y_newitems as the test set with a RandomForest regressor trained on the original base dataset only (no cross-validation, just one run).  This is the regression score you would have gotten on the new items if you hadn't retrained the quality prediction model.\n",
    "\n",
    "(ii) Compute the mean five-fold cross-validation score achieved by a default random forest regressor that uses your updated dataset.\n",
    "\n",
    "Your function should return a tuple with two `float` elements, containing the results of (i) and (ii), in that order.\n",
    "Comparing (i) with (ii), was it worth getting the new labeled data?"
   ]
  },
  {
   "cell_type": "code",
   "execution_count": 25,
   "metadata": {
    "deletable": false,
    "editable": false,
    "nbgrader": {
     "cell_type": "code",
     "checksum": "1ef88be009f08fe2e3ed5ab299f74ac1",
     "grade": false,
     "grade_id": "cell-1aa2d239f6d64a67",
     "locked": true,
     "schema_version": 3,
     "solution": false,
     "task": false
    }
   },
   "outputs": [],
   "source": [
    "# Be sure to run this get these labels for the new items!\n",
    "y_newitems = df_newitems.iloc[:, -1]"
   ]
  },
  {
   "cell_type": "code",
   "execution_count": 26,
   "metadata": {},
   "outputs": [
    {
     "data": {
      "text/plain": [
       "array([[-0.528,  0.962, -1.391, ...,  1.289, -0.579, -0.96 ],\n",
       "       [-0.299,  1.967, -1.391, ..., -0.72 ,  0.129, -0.585],\n",
       "       [-0.299,  1.297, -1.186, ..., -0.331, -0.048, -0.585],\n",
       "       ...,\n",
       "       [-0.42 , -0.379, -1.192, ..., -1.313, -0.262, -0.906],\n",
       "       [-1.606,  0.117, -0.283, ...,  1.005, -0.963,  1.858],\n",
       "       [-1.013, -0.677,  0.379, ...,  0.475, -1.488,  1.045]])"
      ]
     },
     "execution_count": 26,
     "metadata": {},
     "output_type": "execute_result"
    }
   ],
   "source": [
    "X_combined_normalized = np.concatenate((X_base_normalized, X_newitems_normalized), axis=0)\n",
    "\n",
    "X_combined_normalized"
   ]
  },
  {
   "cell_type": "code",
   "execution_count": 27,
   "metadata": {},
   "outputs": [
    {
     "data": {
      "text/plain": [
       "array([5, 5, 5, ..., 6, 7, 6])"
      ]
     },
     "execution_count": 27,
     "metadata": {},
     "output_type": "execute_result"
    }
   ],
   "source": [
    "y_combined=np.concatenate((y_base, y_newitems), axis=0)\n",
    "y_combined"
   ]
  },
  {
   "cell_type": "code",
   "execution_count": 28,
   "metadata": {},
   "outputs": [],
   "source": [
    "part_1_score=tree_model.score(X_newitems_normalized, y_newitems)"
   ]
  },
  {
   "cell_type": "code",
   "execution_count": 29,
   "metadata": {},
   "outputs": [],
   "source": [
    "combined_model=RandomForestRegressor(random_state=42).fit(X_combined_normalized, y_combined)"
   ]
  },
  {
   "cell_type": "code",
   "execution_count": 30,
   "metadata": {},
   "outputs": [],
   "source": [
    "part_2=cross_val_score(combined_model, X_combined_normalized, y_combined)"
   ]
  },
  {
   "cell_type": "code",
   "execution_count": 31,
   "metadata": {
    "deletable": false,
    "nbgrader": {
     "cell_type": "code",
     "checksum": "19e3791fb07778c07b0203ca5411e6b1",
     "grade": false,
     "grade_id": "cell-a80d7fa8ad732a4c",
     "locked": false,
     "schema_version": 3,
     "solution": true
    }
   },
   "outputs": [],
   "source": [
    "# YOUR CODE HERE\n",
    "#raise NotImplementedError()\n",
    "\n",
    "\n",
    "def answer_covariate_shift_d():\n",
    "    result = (part_1_score,part_2.mean())\n",
    "    # YOUR CODE HERE\n",
    "    #raise NotImplementedError()\n",
    "    return result"
   ]
  },
  {
   "cell_type": "code",
   "execution_count": 32,
   "metadata": {
    "deletable": false,
    "editable": false,
    "nbgrader": {
     "cell_type": "code",
     "checksum": "5f2d16f642785b73e5cba9c3edcff0f8",
     "grade": true,
     "grade_id": "cell-c011280a8630d5c3",
     "locked": true,
     "points": 15,
     "schema_version": 3,
     "solution": false
    }
   },
   "outputs": [],
   "source": [
    "stu_ans = answer_covariate_shift_d()\n",
    "\n",
    "assert isinstance(stu_ans, tuple), \"Q2d: Your function should return a tuple.\"\n",
    "assert len(stu_ans) == 2, \"Q2d: Your tuple should have two floats.\"\n",
    "assert isinstance(stu_ans[0], float), \"Q2d: Element 0 should be a float.\"\n",
    "assert isinstance(stu_ans[1], float), \"Q2d: Element 1 should be a float.\"\n",
    "\n",
    "del stu_ans"
   ]
  },
  {
   "cell_type": "markdown",
   "metadata": {
    "deletable": false,
    "editable": false,
    "nbgrader": {
     "cell_type": "markdown",
     "checksum": "89af2022909177160150136330267f1b",
     "grade": false,
     "grade_id": "cell-1d9ca15691990b55",
     "locked": true,
     "schema_version": 3,
     "solution": false,
     "task": false
    }
   },
   "source": [
    "### Question 2 helper code:\n",
    " - You can use this plotting code to compare visually the distributions of the base and newitems datasets to get more intuition about how they might differ."
   ]
  },
  {
   "cell_type": "code",
   "execution_count": 33,
   "metadata": {
    "deletable": false,
    "editable": false,
    "nbgrader": {
     "cell_type": "code",
     "checksum": "2ee92881b9dba7090b10fcbd9d264e1d",
     "grade": false,
     "grade_id": "cell-87efb0a678ee0ef8",
     "locked": true,
     "schema_version": 3,
     "solution": false,
     "task": false
    }
   },
   "outputs": [],
   "source": [
    "from matplotlib.colors import ListedColormap, BoundaryNorm\n",
    "import matplotlib.patches as mpatches\n",
    "\n",
    "\n",
    "def plot_labelled_scatterT(X, y, class_labels):\n",
    "    num_labels = len(class_labels)\n",
    "\n",
    "    x_min, x_max = X[:, 0].min() - 1, X[:, 0].max() + 1\n",
    "    y_min, y_max = X[:, 1].min() - 1, X[:, 1].max() + 1\n",
    "\n",
    "    marker_array = [\"o\", \"^\", \"*\"]\n",
    "    color_array = [\n",
    "        \"#FFFF00\",\n",
    "        \"#00AAFF\",\n",
    "        \"#000000\",\n",
    "        \"#FF00AA\",\n",
    "        \"#00FF00\",\n",
    "        \"#FFFFAA\",\n",
    "        \"#0000FF\",\n",
    "        \"#AAAA00\",\n",
    "        \"#00AAAA\",\n",
    "    ]\n",
    "    cmap_bold = ListedColormap(color_array)\n",
    "    bnorm = BoundaryNorm(np.arange(0, num_labels + 1, 1), ncolors=num_labels)\n",
    "\n",
    "    plt.figure(figsize=(8, 6))\n",
    "    plt.scatter(\n",
    "        X[:, 0],\n",
    "        X[:, 1],\n",
    "        s=65,\n",
    "        c=y,\n",
    "        cmap=cmap_bold,\n",
    "        norm=bnorm,\n",
    "        alpha=0.40,\n",
    "        edgecolor=\"black\",\n",
    "        lw=1,\n",
    "    )\n",
    "\n",
    "    plt.xlim(x_min, x_max)\n",
    "    plt.ylim(y_min, y_max)\n",
    "\n",
    "    h = []\n",
    "    for c in range(0, num_labels):\n",
    "        h.append(mpatches.Patch(color=color_array[c], label=class_labels[c]))\n",
    "    plt.legend(handles=h)\n",
    "\n",
    "    plt.show()"
   ]
  },
  {
   "cell_type": "code",
   "execution_count": 34,
   "metadata": {
    "deletable": false,
    "editable": false,
    "nbgrader": {
     "cell_type": "code",
     "checksum": "3d8f845451e162efaa8f2e5529e07d4e",
     "grade": false,
     "grade_id": "cell-e82a5dcc2ef06d27",
     "locked": true,
     "schema_version": 3,
     "solution": false,
     "task": false
    }
   },
   "outputs": [],
   "source": [
    "# Question 2: You can use MDS to visualize the base and newitems distributions\n",
    "# This is one way to quickly check for the possibility of covariate shift.\n",
    "\n",
    "from sklearn.preprocessing import StandardScaler\n",
    "from sklearn.manifold import MDS\n",
    "\n",
    "X_binary = np.vstack((X_base_normalized, X_newitems_normalized))\n",
    "y_binary = np.concatenate((np.ones(y_base.shape[0]) - 1, np.ones(y_newitems.shape[0])))\n",
    "\n",
    "# Subsample just a part of the original data for efficiency reasons with MDS\n",
    "sample = np.random.choice(X_binary.shape[0], 500, replace=False)\n",
    "\n",
    "dr = MDS(n_components=2, random_state=42)\n",
    "X_low = dr.fit_transform(X_binary[sample])\n",
    "\n",
    "\n",
    "# Uncomment this code to generate the labelled scatterT plot\n",
    "# remember to recomment before submitting\n",
    "\n",
    "# plot_labelled_scatterT(X_low, y_binary[sample], [\"1: base\", \"2: newitems\"])"
   ]
  },
  {
   "cell_type": "code",
   "execution_count": 35,
   "metadata": {},
   "outputs": [
    {
     "data": {
      "image/png": "[encoded data removed]",
      "text/plain": [
       "<Figure size 576x432 with 1 Axes>"
      ]
     },
     "metadata": {
      "needs_background": "light"
     },
     "output_type": "display_data"
    }
   ],
   "source": [
    "# Uncomment this code to generate the labelled scatterT plot\n",
    "# remember to recomment before submitting\n",
    "\n",
    "plot_labelled_scatterT(X_low, y_binary[sample], [\"1: base\", \"2: newitems\"])"
   ]
  },
  {
   "cell_type": "markdown",
   "metadata": {
    "deletable": false,
    "editable": false,
    "nbgrader": {
     "cell_type": "markdown",
     "checksum": "2876b5cfc905abd65efbc9c3a73cdda5",
     "grade": false,
     "grade_id": "cell-77916a8237c351a9",
     "locked": true,
     "schema_version": 3,
     "solution": false,
     "task": false
    }
   },
   "source": [
    "### Question 3. (25 points) Imputing missing values \n",
    "\n",
    "In addition to trying to infer missing *labels* with semi-supervised learning, we can use the Imputer classes of sklearn to fill in missing *values* of the *features*. In this question, you'll use the same dataset as in Question 1, but will look more closely at the process of imputing missing values. Please refer to the week 4 reading, notebook and data imputation lecture for examples of code on how to use an Imputer class (including optionally tied to a Regression class via a pipeline object). \n",
    "\n",
    "**Set `random_state=42` for any estimator or other sklearn object that takes it as a parameter.**"
   ]
  },
  {
   "cell_type": "code",
   "execution_count": 36,
   "metadata": {
    "deletable": false,
    "editable": false,
    "nbgrader": {
     "cell_type": "code",
     "checksum": "573c38f6d696256d3f8d75d4626157e7",
     "grade": false,
     "grade_id": "cell-4d0de3e558e546a6",
     "locked": true,
     "schema_version": 3,
     "solution": false,
     "task": false
    }
   },
   "outputs": [],
   "source": [
    "# Run this code before proceeding.\n",
    "# Please note it makes a copy of the original data and does not modify the originals.\n",
    "\n",
    "CV_SPLITS = 5\n",
    "rng = np.random.RandomState(0)\n",
    "\n",
    "### Load the full dataset\n",
    "from sklearn.datasets import load_breast_cancer\n",
    "\n",
    "(X_full_raw, y_full) = load_breast_cancer(return_X_y=True)\n",
    "\n",
    "\n",
    "### Now we create new subset datasets X_full and X_missing with just two features\n",
    "### for purposes of this question. Random values in X_missing will be marked with NaN,\n",
    "### (although for those who look closely at the code, you'll see the missingness will\n",
    "### not necessarily be completely at random, which will become important later!)\n",
    "X_full = X_full_raw[:, (14, 25)]\n",
    "\n",
    "# We create a train/test split although this is for internal statistical reasons\n",
    "# and the split will not be used in the questions themselves.\n",
    "X_train, X_test, y_train, y_test = train_test_split(X_full, y_full, random_state=0)\n",
    "\n",
    "mu = X_train.mean(axis=0)\n",
    "MU_WIDTH = 2\n",
    "\n",
    "n_samples = X_train.shape[0]\n",
    "X_train_missing = X_train.copy()\n",
    "u = rng.uniform(low=mu[0], high=mu[0] * MU_WIDTH, size=(n_samples,))\n",
    "X_train_missing[np.where(u < X_train[:, 0])[0], 0] = np.nan\n",
    "u = rng.uniform(low=mu[1], high=mu[1] * MU_WIDTH, size=(n_samples,))\n",
    "X_train_missing[np.where(u < X_train[:, 1])[0], 1] = np.nan\n",
    "\n",
    "n_samples = X_test.shape[0]\n",
    "mu = X_test.mean(axis=0)\n",
    "X_test_missing = X_test.copy()\n",
    "u = rng.uniform(low=mu[0], high=mu[0] * MU_WIDTH, size=(n_samples,))\n",
    "X_test_missing[np.where(u < X_test[:, 0])[0], 0] = np.nan\n",
    "u = rng.uniform(low=mu[1], high=mu[1] * MU_WIDTH, size=(n_samples,))\n",
    "X_test_missing[np.where(u < X_test[:, 1])[0], 1] = np.nan\n",
    "\n",
    "## The final \"missing data\" version of the full dataset:\n",
    "X_missing = np.vstack((X_train_missing, X_test_missing))\n",
    "y_missing = np.append(y_train, y_test)"
   ]
  },
  {
   "cell_type": "markdown",
   "metadata": {
    "deletable": false,
    "editable": false,
    "nbgrader": {
     "cell_type": "markdown",
     "checksum": "830fb06be7503f05aca0b4c29b4b4276",
     "grade": false,
     "grade_id": "cell-90f19f2f17c088e4",
     "locked": true,
     "schema_version": 3,
     "solution": false,
     "task": false
    }
   },
   "source": [
    "### For the next questions:\n",
    " - use X_full for \"the full dataset\"  \n",
    " - use X_missing & y_missing for the missing values dataset: this contains random np.nan values"
   ]
  },
  {
   "cell_type": "markdown",
   "metadata": {
    "deletable": false,
    "editable": false,
    "nbgrader": {
     "cell_type": "markdown",
     "checksum": "e9a24e5d8dbbc6d30ae7b3b83943eb51",
     "grade": false,
     "grade_id": "cell-875a02aaaaf79fa6",
     "locked": true,
     "schema_version": 3,
     "solution": false,
     "task": false
    }
   },
   "source": [
    "### Part 3.a (5 points) Establish a full data prediction baseline.\n",
    "With the full dataset X_full, y_full, and using LogisticRegression with default parameters, write a function to compute the mean five-fold cross-validation classifier score on the full dataset. Return that result as a single float."
   ]
  },
  {
   "cell_type": "code",
   "execution_count": 37,
   "metadata": {},
   "outputs": [
    {
     "data": {
      "text/plain": [
       "0.7890855457227139"
      ]
     },
     "execution_count": 37,
     "metadata": {},
     "output_type": "execute_result"
    }
   ],
   "source": [
    "from sklearn.linear_model import LogisticRegression\n",
    "\n",
    "lr=LogisticRegression(random_state=42).fit(X_full, y_full)\n",
    "lr_score=cross_val_score(lr, X_full, y_full).mean()\n",
    "lr_score"
   ]
  },
  {
   "cell_type": "code",
   "execution_count": 38,
   "metadata": {
    "deletable": false,
    "nbgrader": {
     "cell_type": "code",
     "checksum": "3d89ae40cc27948f4ffeb94093954e35",
     "grade": false,
     "grade_id": "cell-a1ebb9bf2bee0194",
     "locked": false,
     "schema_version": 3,
     "solution": true
    }
   },
   "outputs": [],
   "source": [
    "# YOUR CODE HERE\n",
    "#raise NotImplementedError()\n",
    "\n",
    "\n",
    "def answer_imputation_a():\n",
    "    result =lr_score\n",
    "    # YOUR CODE HERE\n",
    "    #raise NotImplementedError()\n",
    "    return result"
   ]
  },
  {
   "cell_type": "code",
   "execution_count": 39,
   "metadata": {
    "deletable": false,
    "editable": false,
    "nbgrader": {
     "cell_type": "code",
     "checksum": "42f8beb60143b0925bbb99a0650bebde",
     "grade": true,
     "grade_id": "cell-312a3feb6621676c",
     "locked": true,
     "points": 5,
     "schema_version": 3,
     "solution": false
    }
   },
   "outputs": [],
   "source": [
    "stu_ans = answer_imputation_a()\n",
    "\n",
    "assert isinstance(stu_ans, float), \"Q3a: Your function should return a float.\"\n",
    "\n",
    "del stu_ans"
   ]
  },
  {
   "cell_type": "markdown",
   "metadata": {
    "deletable": false,
    "editable": false,
    "nbgrader": {
     "cell_type": "markdown",
     "checksum": "2d506abdf8be6d663b669acb91320daf",
     "grade": false,
     "grade_id": "cell-e42bb8429f5e9de5",
     "locked": true,
     "schema_version": 3,
     "solution": false,
     "task": false
    }
   },
   "source": [
    "### Part 3.b. (10 points) Use simple imputation, with and without adding indicator variables.\n",
    "\n",
    "Not only will a scikit-learn Imputer object fill in the missing values of the input dataset, but setting the Imputer option `add_indicator=True` will cause extra binary indicator features to be added to the imputed dataset: a set of binary variables, one per original feature, for remembering which features *in that row* were imputed. Why would this be useful?  It's useful because if the values are *not* missing completely at random and e.g. are related to the range of a variable -- for example, if people with higher incomes are less likely to reveal them in a survey -- then by adding these extra binary features, the classifier has at least a chance for learning something about the relationship of how the 'missingness' might relate to the target value. In other words, the very fact that a value is missing can tell the classifier at least something potentially about its range or distribution, which might be useful for learning. \n",
    "\n",
    "In case you're curious, we have designed a \"missing not completely at random\" (i.e conditionally random) dataset below based on the mean value in each column: the likelihood of a missing value increases with the variable magnitude. \n",
    "\n",
    "The purpose of this question is to see what the effect is on classifier accuracy in such a scenario from setting add_indicator = True to add those extra binary indicator features. (It's instructive to take a look at the output of the Imputer object on your own to see how the indicator variables are added in response to missing values.)\n",
    "\n",
    "Write a function that:\n",
    "\n",
    "(i)  Uses a SimpleImputer with parameters `missing_values = np.nan`, mean imputation strategy, and `add_indicator = False`, using a pipeline to connect the SimpleImputer to a LogisticRegression classifier with default parameters. With this composite pipeline estimator, compute the mean five-fold cross-validation classifier score on the X_missing dataset.\n",
    "\n",
    "(ii) Runs exactly the same steps as above, but with the SimpleImputer's parameter `add_indicator = True`.\n",
    "\n",
    "Your function should return a tuple of two floats: the results of (i) and (ii) in that order."
   ]
  },
  {
   "cell_type": "code",
   "execution_count": 40,
   "metadata": {},
   "outputs": [
    {
     "data": {
      "text/plain": [
       "0.6765719608756404"
      ]
     },
     "execution_count": 40,
     "metadata": {},
     "output_type": "execute_result"
    }
   ],
   "source": [
    "from sklearn.impute import SimpleImputer\n",
    "from sklearn.pipeline import make_pipeline\n",
    "regressor=LogisticRegression(random_state=42)\n",
    "imputer =SimpleImputer(missing_values=np.nan, add_indicator=False, strategy='mean')\n",
    "estimator= make_pipeline(imputer, regressor)\n",
    "scores_1= cross_val_score(estimator, X_missing, y_missing).mean()\n",
    "scores_1"
   ]
  },
  {
   "cell_type": "code",
   "execution_count": 41,
   "metadata": {},
   "outputs": [
    {
     "data": {
      "text/plain": [
       "0.7627387051700046"
      ]
     },
     "execution_count": 41,
     "metadata": {},
     "output_type": "execute_result"
    }
   ],
   "source": [
    "imputer2 = SimpleImputer(missing_values=np.nan, add_indicator=True, strategy='mean')\n",
    "estimator2 = make_pipeline(imputer2, regressor)\n",
    "scores_2 = cross_val_score(estimator2, X_missing, y_missing).mean()\n",
    "scores_2"
   ]
  },
  {
   "cell_type": "code",
   "execution_count": 42,
   "metadata": {
    "deletable": false,
    "nbgrader": {
     "cell_type": "code",
     "checksum": "abd99d1453f13559ad0255df039ab0a4",
     "grade": false,
     "grade_id": "cell-b6083ec014bcb5bb",
     "locked": false,
     "schema_version": 3,
     "solution": true
    }
   },
   "outputs": [],
   "source": [
    "# YOUR CODE HERE\n",
    "#raise NotImplementedError()\n",
    "\n",
    "\n",
    "def answer_imputation_b():\n",
    "    result = (scores_1, scores_2)\n",
    "    # YOUR CODE HERE\n",
    "    #raise NotImplementedError()\n",
    "    return result"
   ]
  },
  {
   "cell_type": "code",
   "execution_count": 43,
   "metadata": {
    "deletable": false,
    "editable": false,
    "nbgrader": {
     "cell_type": "code",
     "checksum": "2c39fc0b3360a49a41f42265660cce76",
     "grade": true,
     "grade_id": "cell-c5dad89521575d17",
     "locked": true,
     "points": 10,
     "schema_version": 3,
     "solution": false
    }
   },
   "outputs": [],
   "source": [
    "stu_ans = answer_imputation_b()\n",
    "\n",
    "assert isinstance(stu_ans, tuple), \"Q3b: Your function should return a tuple.\"\n",
    "assert len(stu_ans) == 2, \"Q3b: Your tuple should have two floats.\"\n",
    "assert isinstance(stu_ans[0], float), \"Q3b: Element 0 should be a float.\"\n",
    "assert isinstance(stu_ans[1], float), \"Q3b: Element 1 should be a float.\"\n",
    "\n",
    "del stu_ans"
   ]
  },
  {
   "cell_type": "markdown",
   "metadata": {
    "deletable": false,
    "editable": false,
    "nbgrader": {
     "cell_type": "markdown",
     "checksum": "be54bc33ef8854d531ff984533dfdbe1",
     "grade": false,
     "grade_id": "cell-447c555f82e5a0e1",
     "locked": true,
     "schema_version": 3,
     "solution": false,
     "task": false
    }
   },
   "source": [
    "### Part 3.c (10 points) Run iterative imputation with indicator variables.\n",
    "\n",
    "Write a function that uses code very similar to the one you created in the previous step, but modified to use an IterativeImputer class, with the estimator property set to `DecisionTreeRegressor(random_state = 42)' so that it will use regression trees to perform the imputation. This custom estimator property is one example of the IterativeImputer's flexibility. Set add_indicator = True to add the extra imputation indicator features for the LogisticRegression classifier (default settings). Compute the mean five-fold cross-validation classifier score on the X_missing dataset and return that from your function."
   ]
  },
  {
   "cell_type": "code",
   "execution_count": 44,
   "metadata": {},
   "outputs": [
    {
     "data": {
      "text/plain": [
       "0.7609843192050924"
      ]
     },
     "execution_count": 44,
     "metadata": {},
     "output_type": "execute_result"
    }
   ],
   "source": [
    "from sklearn.experimental import enable_iterative_imputer\n",
    "from sklearn.impute import IterativeImputer\n",
    "from sklearn.tree import DecisionTreeRegressor\n",
    "\n",
    "iterative=IterativeImputer(estimator=DecisionTreeRegressor(random_state=42),\n",
    "                             random_state=42,\n",
    "                             missing_values=np.nan,\n",
    "                             add_indicator=True)\n",
    "estimator3 =make_pipeline(iterative, regressor)\n",
    "scores_3 =cross_val_score(estimator3, X_missing, y_missing).mean()\n",
    "scores_3"
   ]
  },
  {
   "cell_type": "code",
   "execution_count": null,
   "metadata": {},
   "outputs": [],
   "source": []
  },
  {
   "cell_type": "code",
   "execution_count": 45,
   "metadata": {
    "deletable": false,
    "nbgrader": {
     "cell_type": "code",
     "checksum": "acd4912ad2bfbd57259785dfdd7920a7",
     "grade": false,
     "grade_id": "cell-3a06c869fbaeb3d8",
     "locked": false,
     "schema_version": 3,
     "solution": true
    }
   },
   "outputs": [],
   "source": [
    "# YOUR CODE HERE\n",
    "#raise NotImplementedError()\n",
    "\n",
    "\n",
    "def answer_imputation_c():\n",
    "    result = scores_3\n",
    "    # YOUR CODE HERE\n",
    "    #raise NotImplementedError()\n",
    "    return result"
   ]
  },
  {
   "cell_type": "code",
   "execution_count": 46,
   "metadata": {
    "deletable": false,
    "editable": false,
    "nbgrader": {
     "cell_type": "code",
     "checksum": "d4379f5cd1706e9bf0e633053eb6b683",
     "grade": true,
     "grade_id": "cell-2f75adf88cde04cd",
     "locked": true,
     "points": 10,
     "schema_version": 3,
     "solution": false
    }
   },
   "outputs": [],
   "source": [
    "stu_ans = answer_imputation_c()\n",
    "\n",
    "assert isinstance(stu_ans, float), \"Q3c: Your function should return a float.\"\n",
    "\n",
    "del stu_ans"
   ]
  },
  {
   "cell_type": "code",
   "execution_count": null,
   "metadata": {},
   "outputs": [],
   "source": []
  },
  {
   "cell_type": "code",
   "execution_count": null,
   "metadata": {},
   "outputs": [],
   "source": []
  },
  {
   "cell_type": "code",
   "execution_count": null,
   "metadata": {},
   "outputs": [],
   "source": []
  }
 ],
 "metadata": {
  "coursera": {
   "schema_names": [
    "mads_unsupervised_learning_v1_assignment4"
   ]
  },
  "kernelspec": {
   "display_name": "Python 3 (ipykernel)",
   "language": "python",
   "name": "python3"
  },
  "language_info": {
   "codemirror_mode": {
    "name": "ipython",
    "version": 3
   },
   "file_extension": ".py",
   "mimetype": "text/x-python",
   "name": "python",
   "nbconvert_exporter": "python",
   "pygments_lexer": "ipython3",
   "version": "3.8.10"
  }
 },
 "nbformat": 4,
 "nbformat_minor": 2
}
